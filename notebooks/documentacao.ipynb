{
 "cells": [
  {
   "cell_type": "markdown",
   "metadata": {},
   "source": [
    "# Programação Orientada à Objetos:\n",
    "# TP2: Biblioteca\n",
    "#### Autores: Ivo Capanema e Gabriel Becker\n",
    "## Introdução\n",
    "O desafio desse trabalho prático era desenvolver em C++ um gerenciador de Biblioteca que usasse dos conceitos de programação orientada a objetos tais como: gerenciamento de memoria, interface, herança,\n",
    "sobrecargas, upcasting, programação genérica. \n",
    "\n",
    "A aplicação deveria ser capaz de realizar emprestimos de livros, consulta de publicações por titulo ou autores \n",
    "\n",
    "## Como compilar e executar\n",
    "_GNU/Linux_: basta rodar o comando `make` em um emulador terminal com o programa make instalado.\n",
    "\n",
    "Windows: sei la mano\n",
    "\n",
    "\n",
    "## Implementação\n",
    "### Classes e Polimorfismos\n",
    "As clases especificadas pelo enunciado do TP são:\n",
    "\n",
    "    Publicacao\n",
    "    Livro (Derivada de Publicacao)\n",
    "    Periodico (Derivada de Publicacao)\n",
    "    Usuario\n",
    "    ItemEmprestimo\n",
    "    Emprestimo (Composta por ItemEmprestimo)\n",
    "    Biblioteca (Composta por myVector, Emprestimo, Publicacao, Livro, Periodico e Usuario)\n",
    "    Interface (Composta por Biblioteca* (ponteiro) )\n",
    "E as classes desenvolvidas por opção foram:\n",
    "    \n",
    "    Date\n",
    "    \n",
    "E uma classe genérica:\n",
    "\n",
    "    myVector<T> \n",
    "   \n",
    "Esse template define uma classe derivada de std::vector<> e foi feita para \"acrescentar\" métodos ao vector padrão.\n",
    "\n",
    "Os principais métodos dessas classes são:"
   ]
  },
  {
   "cell_type": "code",
   "execution_count": null,
   "metadata": {},
   "outputs": [],
   "source": [
    "/* DATE */ \n",
    "int Date::difDias (const Date&) const;\n",
    "bool Date::operator== (const string&) const;\n",
    "/* Biblioteca */ \n",
    "Biblioteca& Biblioteca::adicionarPublicacao(Publicacao*);\n",
    "myVector<Publicacao*>& Biblioteca::buscaPublicacao(const string&);\n",
    "Biblioteca& Biblioteca::inserirItemEmprestimo(Emprestimo, ItemEmprestimo);\n",
    "/* Emprestimo */\n",
    "void Emprestimo::AdicionarLivro(Livro& L);\n",
    "void Emprestimo::DevolverLivro(Livro& L);\n",
    "/* Usuario */\n",
    "Usuario& Usuario::setarCpf(const string& C);\n",
    "bool Usuario::operator==(const Usuario&) const;\n",
    "/* Publicacao (com sobrecargas para Livro e Periodico) */\n",
    "virtual bool Publicacao::operator==(const Publicacao&);\n",
    "friend ostream& operator<< (ostream&, const Publicacao&);\n",
    "friend istream& operator>> (istream&, Publicacao&);\n",
    "/* Item Emprestimo */\n",
    "void ItemEmprestimo::atualizarDataDev(const string& Data = \"\"); \n",
    "bool ItemEmprestimo::isEqualTo (const ItemEmprestimo& IE);\n",
    "/* myVector */\n",
    "int findPos(const T& obj);"
   ]
  },
  {
   "cell_type": "markdown",
   "metadata": {},
   "source": [
    "### Decisões\n",
    "  . Foi decidido que as classes usadas para criar vetores myVector<> possuiriam valores default para todos atributos, contrutor de copia, e as seguintes sobercargas: operator=, operator==, operator<< e operator >>.\n",
    "\n",
    "Essa decisão se deve ao fato de que os métodos de myVector<> fazem uso desses métodos. Isso foi importante para facilitar a busca de elementos num vetor e as operações de input e output num arquivo. Para saídas amigáveis ao usuário, deve-se usar o método `mostrar()`.\n",
    "\n",
    "  . Usuário é definido pelo nome ou cpf. O que significa que só pode existir um único usuário com um cpf, mesmo que o nome seja diferente, e vice-versa (com implicações em `Usuario::operator==`). Isso impede o cadastro de mais de um cliente com o mesmo nome ou cpf.\n",
    "\n",
    "  . A Biblioteca tem como atributos vetores (myVector) para Livro e Periodicos. Qualquer upcasting feito posteriormente usa de ponteiros de Publicacao* e, quando necessário, se confere a classe do upcasting usando a pavra reservada `dynamic_cast`.\n",
    "  "
   ]
  },
  {
   "cell_type": "code",
   "execution_count": null,
   "metadata": {},
   "outputs": [],
   "source": [
    "#include \"../Livro.hpp\"\n",
    "#include \"../Publicacao.hpp\"\n",
    "#include \"../myVector.hpp\"\n",
    "\n",
    "myVector<Livro> livros; livros.push_back(Livro());\n",
    "Publicacao* ptr = &livros[0]; // sendo livros um myVector<Livro>\n",
    "Livro* L = dynamic_cast<Livro*>(ptr);\n",
    "if (L){ /* Esse escopo só é alcançado se ptr apontar para um Livro */ \n",
    "    cout<<\"É um livro\";\n",
    "}"
   ]
  },
  {
   "cell_type": "markdown",
   "metadata": {},
   "source": [
    "## Conclusão"
   ]
  },
  {
   "cell_type": "code",
   "execution_count": null,
   "metadata": {},
   "outputs": [],
   "source": []
  }
 ],
 "metadata": {
  "kernelspec": {
   "display_name": "C++17",
   "language": "C++17",
   "name": "xeus-cling-cpp17"
  },
  "language_info": {
   "codemirror_mode": "text/x-c++src",
   "file_extension": ".cpp",
   "mimetype": "text/x-c++src",
   "name": "c++",
   "version": "-std=c++17"
  }
 },
 "nbformat": 4,
 "nbformat_minor": 2
}
