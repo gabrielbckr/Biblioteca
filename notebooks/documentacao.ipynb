{
 "cells": [
  {
   "cell_type": "markdown",
   "metadata": {},
   "source": [
    "# Programação Orientada à Objetos:\n",
    "# TP2: Biblioteca\n",
    "#### Autores: Ivo Capanema e Gabriel Becker\n",
    "## Introdução\n",
    "\n",
    "## Como compilar e executar\n",
    "_GNU/Linux_: basta rodar o comando `make` em um emulador terminal com o programa make instalado.\n",
    "\n",
    "Windows: sei la mano\n",
    "\n",
    "\n",
    "## Implementação\n",
    "### Classes e Polimorfismos\n",
    "As clases especificadas pelo enunciado do TP são:\n",
    "\n",
    "    Publicacao\n",
    "    Livro (Derivada de Publicacao)\n",
    "    Periodico (Derivada de Publicacao)\n",
    "    Usuario\n",
    "    ItemEmprestimo\n",
    "    Emprestimo (Composta por ItemEmprestimo)\n",
    "    Biblioteca (Composta por myVector, Emprestimo, Publicacao, Livro, Periodico e Usuario)\n",
    "    Interface (Composta por Biblioteca* (ponteiro) )\n",
    "    \n",
    "E uma classe genérica:\n",
    "\n",
    "    myVector<T> \n",
    "   \n",
    "Esse template define uma classe derivada de std::vector<> e foi feita para \"acrescentar\" métodos ao vector padrão.\n",
    "\n",
    "Os principais métodos dessas classes são:"
   ]
  },
  {
   "cell_type": "code",
   "execution_count": null,
   "metadata": {},
   "outputs": [],
   "source": []
  },
  {
   "cell_type": "markdown",
   "metadata": {},
   "source": [
    "### Decisões\n",
    "  . Foi decidido que as classes usadas para criar vetores myVector<> possuiriam valores default para todos atributos, contrutor de copia, e as seguintes sobercargas: operator=, operator==, operator<< e operator >>.\n",
    "\n",
    "Essa decisão se deve ao fato de que os métodos de myVector<> fazem uso desses métodos. Isso foi importante para facilitar a busca de elementos num vetor e as operações de input e output num arquivo. Para saídas amigáveis ao usuário, deve-se usar o método `mostrar()`.\n",
    "\n",
    "  . Usuário é definido pelo nome ou cpf. O que significa que só pode existir um único usuário com um cpf, mesmo que o nome seja diferente, e vice-versa (com implicações em `Usuario::operator==`). Isso impede o cadastro de mais de um cliente com o mesmo nome ou cpf.\n",
    "\n",
    "## Conclusão"
   ]
  },
  {
   "cell_type": "code",
   "execution_count": null,
   "metadata": {},
   "outputs": [],
   "source": []
  }
 ],
 "metadata": {
  "kernelspec": {
   "display_name": "C++17",
   "language": "C++17",
   "name": "xeus-cling-cpp17"
  },
  "language_info": {
   "codemirror_mode": "text/x-c++src",
   "file_extension": ".cpp",
   "mimetype": "text/x-c++src",
   "name": "c++",
   "version": "-std=c++17"
  }
 },
 "nbformat": 4,
 "nbformat_minor": 2
}
